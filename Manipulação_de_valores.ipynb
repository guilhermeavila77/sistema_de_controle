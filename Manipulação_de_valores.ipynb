{
  "nbformat": 4,
  "nbformat_minor": 0,
  "metadata": {
    "colab": {
      "name": "Manipulação de valores.ipynb",
      "provenance": [],
      "authorship_tag": "ABX9TyPmPusuxiB1vorbhSdKpJk8",
      "include_colab_link": true
    },
    "kernelspec": {
      "name": "python3",
      "display_name": "Python 3"
    },
    "language_info": {
      "name": "python"
    }
  },
  "cells": [
    {
      "cell_type": "markdown",
      "metadata": {
        "id": "view-in-github",
        "colab_type": "text"
      },
      "source": [
        "<a href=\"https://colab.research.google.com/github/guilhermeavila77/sistema_de_controle/blob/main/Manipula%C3%A7%C3%A3o_de_valores.ipynb\" target=\"_parent\"><img src=\"https://colab.research.google.com/assets/colab-badge.svg\" alt=\"Open In Colab\"/></a>"
      ]
    },
    {
      "cell_type": "markdown",
      "source": [
        "#Trabalhar com escrita e tratamento de valores em um arquivo XLSX"
      ],
      "metadata": {
        "id": "xpBEtBFo0x4I"
      }
    },
    {
      "cell_type": "markdown",
      "source": [
        "- Ler tabela"
      ],
      "metadata": {
        "id": "G9isnMxQ1jfF"
      }
    },
    {
      "cell_type": "code",
      "execution_count": null,
      "metadata": {
        "id": "fvI6S6Be0k39"
      },
      "outputs": [],
      "source": [
        "import pandas as pd\n",
        "\n",
        "tabela = pd.read_excel(\"/content/drive/MyDrive/Curso analise de dados/Base de de dados.xlsx\")\n",
        "display(tabela)"
      ]
    },
    {
      "cell_type": "markdown",
      "source": [
        "- Escrever uma nova linha"
      ],
      "metadata": {
        "id": "5lb4jtid6PZh"
      }
    },
    {
      "cell_type": "markdown",
      "source": [
        "- Alterar uma Informação"
      ],
      "metadata": {
        "id": "g2St2Mao7xl9"
      }
    },
    {
      "cell_type": "markdown",
      "source": [
        "- Apagar uma linha"
      ],
      "metadata": {
        "id": "q-1ni5Ny74Im"
      }
    },
    {
      "cell_type": "markdown",
      "source": [
        "- Escrever uma linha com inputs do usuario"
      ],
      "metadata": {
        "id": "52gd1PYt7-i7"
      }
    },
    {
      "cell_type": "markdown",
      "source": [
        "- Alterar uma informação da vontade do usuario"
      ],
      "metadata": {
        "id": "u8Fdnrh-8LEs"
      }
    },
    {
      "cell_type": "markdown",
      "source": [
        "- Apagar uma linha a escolha do usuario "
      ],
      "metadata": {
        "id": "Y5CnDBQG8FrC"
      }
    }
  ]
}