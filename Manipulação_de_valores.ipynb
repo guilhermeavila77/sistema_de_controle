{
  "nbformat": 4,
  "nbformat_minor": 0,
  "metadata": {
    "colab": {
      "name": "Manipulação de valores.ipynb",
      "provenance": [],
      "mount_file_id": "https://github.com/guilhermeavila77/sistema_de_controle/blob/main/Manipula%C3%A7%C3%A3o_de_valores.ipynb",
      "authorship_tag": "ABX9TyPc0d4HV/XVz2hoZna5GjlZ",
      "include_colab_link": true
    },
    "kernelspec": {
      "name": "python3",
      "display_name": "Python 3"
    },
    "language_info": {
      "name": "python"
    }
  },
  "cells": [
    {
      "cell_type": "markdown",
      "metadata": {
        "id": "view-in-github",
        "colab_type": "text"
      },
      "source": [
        "<a href=\"https://colab.research.google.com/github/guilhermeavila77/sistema_de_controle/blob/main/Manipula%C3%A7%C3%A3o_de_valores.ipynb\" target=\"_parent\"><img src=\"https://colab.research.google.com/assets/colab-badge.svg\" alt=\"Open In Colab\"/></a>"
      ]
    },
    {
      "cell_type": "markdown",
      "source": [
        "#Trabalhar com escrita e tratamento de valores em um arquivo XLSX"
      ],
      "metadata": {
        "id": "xpBEtBFo0x4I"
      }
    },
    {
      "cell_type": "markdown",
      "source": [
        "- Ler tabela"
      ],
      "metadata": {
        "id": "G9isnMxQ1jfF"
      }
    },
    {
      "cell_type": "code",
      "execution_count": null,
      "metadata": {
        "id": "fvI6S6Be0k39"
      },
      "outputs": [],
      "source": [
        "import pandas as pd\n",
        "\n",
        "tabela = pd.read_excel(\"/content/drive/MyDrive/Curso analise de dados/Base de de dados.xlsx\")\n",
        "display(tabela)"
      ]
    },
    {
      "cell_type": "markdown",
      "source": [
        "- Escrever uma nova linha"
      ],
      "metadata": {
        "id": "5lb4jtid6PZh"
      }
    },
    {
      "cell_type": "code",
      "source": [
        "from openpyxl import workbook, load_workbook, worksheet\n",
        "\n",
        "# Primeira maneira e fazer um for para alterar a linha\n",
        "atualizartabela = load_workbook(\"/content/drive/MyDrive/Curso analise de dados/Base de de dados.xlsx\")\n",
        "aba_ativa = atualizartabela.active\n",
        "aba_ativa['A2'] = 'Auto Super'\n",
        "aba_ativa['B2'] = 'SP'\n",
        "aba_ativa['C2'] = 'BR'\n",
        "aba_ativa['D2'] = 400000\n",
        "aba_ativa['E2'] = 200000\n",
        "aba_ativa['G2'] = '12/05/2022'\n",
        "\n",
        "atualizartabela.save(\"/content/drive/MyDrive/Curso analise de dados/Base de de dados.xlsx\")"
      ],
      "metadata": {
        "id": "-zeRdsoe6yZp"
      },
      "execution_count": 22,
      "outputs": []
    },
    {
      "cell_type": "code",
      "source": [
        "from openpyxl import workbook, load_workbook, worksheet\n",
        "\n",
        "# Melhor maneira para adicionar uma linha completa\n",
        "\n",
        "atualizartabela = load_workbook(\"/content/drive/MyDrive/Curso analise de dados/Base de de dados.xlsx\")\n",
        "aba_ativa = atualizartabela.active\n",
        "\n",
        "lucro = 0\n",
        "\n",
        "aba_ativa.append(['sorveteiros FC', 'CF' ,'USA' ,50000 ,7500 ,lucro , '25/12/2022'])\n",
        "\n",
        "atualizartabela.save(\"/content/drive/MyDrive/Curso analise de dados/Base de de dados.xlsx\")\n"
      ],
      "metadata": {
        "id": "aXBCje5w_wxe"
      },
      "execution_count": 63,
      "outputs": []
    },
    {
      "cell_type": "markdown",
      "source": [
        "- Alterar uma Informação"
      ],
      "metadata": {
        "id": "g2St2Mao7xl9"
      }
    },
    {
      "cell_type": "code",
      "source": [
        "# tabela.loc[linha,coluna] = alteração / para procurar uma celula especifica\n",
        "# tabela[\"NOME COLUNA\"] / para selecionar toda a coluna\n",
        "# index=False para não criar uma coluna com o numero da linha\n",
        "\n",
        "\n",
        "tabela.loc[1, \"DATA\"] = \"30/02/2022\"\n",
        "\n",
        "tabela[\"LUCRO\"] = tabela[\"FATURAMENTO\"] - tabela[\"DESPESAS\"]\n",
        "\n",
        "tabela.to_excel(\"/content/drive/MyDrive/Curso analise de dados/Base de de dados.xlsx\", index=False)"
      ],
      "metadata": {
        "id": "SBtMkf9CBolH"
      },
      "execution_count": 65,
      "outputs": []
    },
    {
      "cell_type": "markdown",
      "source": [
        "- Apagar uma linha"
      ],
      "metadata": {
        "id": "q-1ni5Ny74Im"
      }
    },
    {
      "cell_type": "code",
      "source": [
        "# Esse comando escolhe o index da linha que vai ser excluida\n",
        "tabela = tabela.drop(0)\n",
        "\n",
        "# Salva na base de dados\n",
        "tabela.to_excel(\"/content/drive/MyDrive/Curso analise de dados/Base de de dados.xlsx\", index=False)\n"
      ],
      "metadata": {
        "id": "f5_oTQY6G4om"
      },
      "execution_count": 82,
      "outputs": []
    },
    {
      "cell_type": "markdown",
      "source": [
        "- Escrever uma linha com inputs do usuario"
      ],
      "metadata": {
        "id": "52gd1PYt7-i7"
      }
    },
    {
      "cell_type": "markdown",
      "source": [
        "- Alterar uma informação da vontade do usuario"
      ],
      "metadata": {
        "id": "u8Fdnrh-8LEs"
      }
    },
    {
      "cell_type": "markdown",
      "source": [
        "- Apagar uma linha a escolha do usuario "
      ],
      "metadata": {
        "id": "Y5CnDBQG8FrC"
      }
    },
    {
      "cell_type": "markdown",
      "source": [
        "# Buscar valores"
      ],
      "metadata": {
        "id": "QyfVliC491xh"
      }
    },
    {
      "cell_type": "markdown",
      "source": [
        "- Buscar  clientes:\n",
        "\n",
        "  - Com maior faturamento\n",
        "  - Com mair despesa\n",
        "  - Com maior lucro"
      ],
      "metadata": {
        "id": "qP48EwoK959x"
      }
    }
  ]
}