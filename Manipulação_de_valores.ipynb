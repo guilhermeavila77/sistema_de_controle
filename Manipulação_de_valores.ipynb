{
  "nbformat": 4,
  "nbformat_minor": 0,
  "metadata": {
    "colab": {
      "name": "Manipulação de valores.ipynb",
      "provenance": [],
      "mount_file_id": "https://github.com/guilhermeavila77/sistema_de_controle/blob/main/Manipula%C3%A7%C3%A3o_de_valores.ipynb",
      "authorship_tag": "ABX9TyOxMk1Lc8gRa6e59wsSA75r",
      "include_colab_link": true
    },
    "kernelspec": {
      "name": "python3",
      "display_name": "Python 3"
    },
    "language_info": {
      "name": "python"
    }
  },
  "cells": [
    {
      "cell_type": "markdown",
      "metadata": {
        "id": "view-in-github",
        "colab_type": "text"
      },
      "source": [
        "<a href=\"https://colab.research.google.com/github/guilhermeavila77/sistema_de_controle/blob/main/Manipula%C3%A7%C3%A3o_de_valores.ipynb\" target=\"_parent\"><img src=\"https://colab.research.google.com/assets/colab-badge.svg\" alt=\"Open In Colab\"/></a>"
      ]
    },
    {
      "cell_type": "markdown",
      "source": [
        "#Trabalhar com escrita e tratamento de valores em um arquivo XLSX"
      ],
      "metadata": {
        "id": "xpBEtBFo0x4I"
      }
    },
    {
      "cell_type": "markdown",
      "source": [
        "- Ler tabela"
      ],
      "metadata": {
        "id": "G9isnMxQ1jfF"
      }
    },
    {
      "cell_type": "code",
      "execution_count": 2,
      "metadata": {
        "id": "fvI6S6Be0k39",
        "outputId": "7a6b2a63-9d78-4018-d97b-7760833b8cd2",
        "colab": {
          "base_uri": "https://localhost:8080/",
          "height": 49
        }
      },
      "outputs": [
        {
          "output_type": "display_data",
          "data": {
            "text/plain": [
              "Empty DataFrame\n",
              "Columns: [NOME, ESTADO, PAIS, FATURAMENTO, DESPESAS, LUCRO]\n",
              "Index: []"
            ],
            "text/html": [
              "\n",
              "  <div id=\"df-16170e89-0af3-437c-abdc-7d74e331277b\">\n",
              "    <div class=\"colab-df-container\">\n",
              "      <div>\n",
              "<style scoped>\n",
              "    .dataframe tbody tr th:only-of-type {\n",
              "        vertical-align: middle;\n",
              "    }\n",
              "\n",
              "    .dataframe tbody tr th {\n",
              "        vertical-align: top;\n",
              "    }\n",
              "\n",
              "    .dataframe thead th {\n",
              "        text-align: right;\n",
              "    }\n",
              "</style>\n",
              "<table border=\"1\" class=\"dataframe\">\n",
              "  <thead>\n",
              "    <tr style=\"text-align: right;\">\n",
              "      <th></th>\n",
              "      <th>NOME</th>\n",
              "      <th>ESTADO</th>\n",
              "      <th>PAIS</th>\n",
              "      <th>FATURAMENTO</th>\n",
              "      <th>DESPESAS</th>\n",
              "      <th>LUCRO</th>\n",
              "    </tr>\n",
              "  </thead>\n",
              "  <tbody>\n",
              "  </tbody>\n",
              "</table>\n",
              "</div>\n",
              "      <button class=\"colab-df-convert\" onclick=\"convertToInteractive('df-16170e89-0af3-437c-abdc-7d74e331277b')\"\n",
              "              title=\"Convert this dataframe to an interactive table.\"\n",
              "              style=\"display:none;\">\n",
              "        \n",
              "  <svg xmlns=\"http://www.w3.org/2000/svg\" height=\"24px\"viewBox=\"0 0 24 24\"\n",
              "       width=\"24px\">\n",
              "    <path d=\"M0 0h24v24H0V0z\" fill=\"none\"/>\n",
              "    <path d=\"M18.56 5.44l.94 2.06.94-2.06 2.06-.94-2.06-.94-.94-2.06-.94 2.06-2.06.94zm-11 1L8.5 8.5l.94-2.06 2.06-.94-2.06-.94L8.5 2.5l-.94 2.06-2.06.94zm10 10l.94 2.06.94-2.06 2.06-.94-2.06-.94-.94-2.06-.94 2.06-2.06.94z\"/><path d=\"M17.41 7.96l-1.37-1.37c-.4-.4-.92-.59-1.43-.59-.52 0-1.04.2-1.43.59L10.3 9.45l-7.72 7.72c-.78.78-.78 2.05 0 2.83L4 21.41c.39.39.9.59 1.41.59.51 0 1.02-.2 1.41-.59l7.78-7.78 2.81-2.81c.8-.78.8-2.07 0-2.86zM5.41 20L4 18.59l7.72-7.72 1.47 1.35L5.41 20z\"/>\n",
              "  </svg>\n",
              "      </button>\n",
              "      \n",
              "  <style>\n",
              "    .colab-df-container {\n",
              "      display:flex;\n",
              "      flex-wrap:wrap;\n",
              "      gap: 12px;\n",
              "    }\n",
              "\n",
              "    .colab-df-convert {\n",
              "      background-color: #E8F0FE;\n",
              "      border: none;\n",
              "      border-radius: 50%;\n",
              "      cursor: pointer;\n",
              "      display: none;\n",
              "      fill: #1967D2;\n",
              "      height: 32px;\n",
              "      padding: 0 0 0 0;\n",
              "      width: 32px;\n",
              "    }\n",
              "\n",
              "    .colab-df-convert:hover {\n",
              "      background-color: #E2EBFA;\n",
              "      box-shadow: 0px 1px 2px rgba(60, 64, 67, 0.3), 0px 1px 3px 1px rgba(60, 64, 67, 0.15);\n",
              "      fill: #174EA6;\n",
              "    }\n",
              "\n",
              "    [theme=dark] .colab-df-convert {\n",
              "      background-color: #3B4455;\n",
              "      fill: #D2E3FC;\n",
              "    }\n",
              "\n",
              "    [theme=dark] .colab-df-convert:hover {\n",
              "      background-color: #434B5C;\n",
              "      box-shadow: 0px 1px 3px 1px rgba(0, 0, 0, 0.15);\n",
              "      filter: drop-shadow(0px 1px 2px rgba(0, 0, 0, 0.3));\n",
              "      fill: #FFFFFF;\n",
              "    }\n",
              "  </style>\n",
              "\n",
              "      <script>\n",
              "        const buttonEl =\n",
              "          document.querySelector('#df-16170e89-0af3-437c-abdc-7d74e331277b button.colab-df-convert');\n",
              "        buttonEl.style.display =\n",
              "          google.colab.kernel.accessAllowed ? 'block' : 'none';\n",
              "\n",
              "        async function convertToInteractive(key) {\n",
              "          const element = document.querySelector('#df-16170e89-0af3-437c-abdc-7d74e331277b');\n",
              "          const dataTable =\n",
              "            await google.colab.kernel.invokeFunction('convertToInteractive',\n",
              "                                                     [key], {});\n",
              "          if (!dataTable) return;\n",
              "\n",
              "          const docLinkHtml = 'Like what you see? Visit the ' +\n",
              "            '<a target=\"_blank\" href=https://colab.research.google.com/notebooks/data_table.ipynb>data table notebook</a>'\n",
              "            + ' to learn more about interactive tables.';\n",
              "          element.innerHTML = '';\n",
              "          dataTable['output_type'] = 'display_data';\n",
              "          await google.colab.output.renderOutput(dataTable, element);\n",
              "          const docLink = document.createElement('div');\n",
              "          docLink.innerHTML = docLinkHtml;\n",
              "          element.appendChild(docLink);\n",
              "        }\n",
              "      </script>\n",
              "    </div>\n",
              "  </div>\n",
              "  "
            ]
          },
          "metadata": {}
        }
      ],
      "source": [
        "import pandas as pd\n",
        "\n",
        "tabela = pd.read_excel(\"/content/drive/MyDrive/Curso analise de dados/Base de de dados.xlsx\")\n",
        "display(tabela)"
      ]
    },
    {
      "cell_type": "markdown",
      "source": [
        "- Escrever uma nova linha"
      ],
      "metadata": {
        "id": "5lb4jtid6PZh"
      }
    },
    {
      "cell_type": "markdown",
      "source": [
        "- Alterar uma Informação"
      ],
      "metadata": {
        "id": "g2St2Mao7xl9"
      }
    },
    {
      "cell_type": "markdown",
      "source": [
        "- Apagar uma linha"
      ],
      "metadata": {
        "id": "q-1ni5Ny74Im"
      }
    },
    {
      "cell_type": "markdown",
      "source": [
        "- Escrever uma linha com inputs do usuario"
      ],
      "metadata": {
        "id": "52gd1PYt7-i7"
      }
    },
    {
      "cell_type": "markdown",
      "source": [
        "- Alterar uma informação da vontade do usuario"
      ],
      "metadata": {
        "id": "u8Fdnrh-8LEs"
      }
    },
    {
      "cell_type": "markdown",
      "source": [
        "- Apagar uma linha a escolha do usuario "
      ],
      "metadata": {
        "id": "Y5CnDBQG8FrC"
      }
    },
    {
      "cell_type": "markdown",
      "source": [
        "# Buscar valores"
      ],
      "metadata": {
        "id": "QyfVliC491xh"
      }
    },
    {
      "cell_type": "markdown",
      "source": [
        "- Buscar  clientes:\n",
        "\n",
        "  - Com maior faturamento\n",
        "  - Com mair despesa\n",
        "  - Com maior lucro"
      ],
      "metadata": {
        "id": "qP48EwoK959x"
      }
    }
  ]
}