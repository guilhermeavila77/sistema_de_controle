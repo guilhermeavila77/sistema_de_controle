{
  "nbformat": 4,
  "nbformat_minor": 0,
  "metadata": {
    "colab": {
      "name": "Estrutura.ipynb",
      "provenance": [],
      "authorship_tag": "ABX9TyMXi/IqcU3xZrha2cBKlhsp",
      "include_colab_link": true
    },
    "kernelspec": {
      "name": "python3",
      "display_name": "Python 3"
    },
    "language_info": {
      "name": "python"
    }
  },
  "cells": [
    {
      "cell_type": "markdown",
      "metadata": {
        "id": "view-in-github",
        "colab_type": "text"
      },
      "source": [
        "<a href=\"https://colab.research.google.com/github/guilhermeavila77/sistema_de_controle/blob/main/Estrutura.ipynb\" target=\"_parent\"><img src=\"https://colab.research.google.com/assets/colab-badge.svg\" alt=\"Open In Colab\"/></a>"
      ]
    },
    {
      "cell_type": "code",
      "execution_count": null,
      "metadata": {
        "id": "0VuDCSwHvwi5"
      },
      "outputs": [],
      "source": [
        "#Importar bibliotecas\n",
        "\n",
        "import pandas as pd\n",
        "from openpyxl import workbook, load_workbook, worksheet\n",
        "import plotly.express as px"
      ]
    },
    {
      "cell_type": "code",
      "source": [
        "# Buscar a planilha e criar o data frame com o nome tabela\n",
        "\n",
        "tabela = pd.read_excel(\"/content/drive/MyDrive/Curso analise de dados/Base de de dados.xlsx\")"
      ],
      "metadata": {
        "id": "qdQVdKwvwFOL"
      },
      "execution_count": null,
      "outputs": []
    },
    {
      "cell_type": "code",
      "source": [
        "# Adicionar uma nova linha com inputs do usuario\n",
        "\n",
        "# Pega as informações de cada linha\n",
        "nome = input(str('Nome: '))\n",
        "estado = input(str('Estado: '))\n",
        "pais = input(str('Pais: '))\n",
        "faturamento = input('Faturamento: ')\n",
        "despesas = input('Despesas: ')\n",
        "data = input(str('Data: '))\n",
        "\n",
        "# Formata as variaveis inteiras\n",
        "faturamento = int(faturamento)\n",
        "despesas = int(despesas)\n",
        "\n",
        "# Adiciona a linha \n",
        "aba_ativa.append([nome, estado ,pais ,faturamento ,despesas ,lucro , data])\n",
        "\n",
        "# Salva a planilha\n",
        "atualizartabela.save(\"/content/drive/MyDrive/Curso analise de dados/Base de de dados.xlsx\")"
      ],
      "metadata": {
        "id": "JhbdeqKKwR5H"
      },
      "execution_count": null,
      "outputs": []
    },
    {
      "cell_type": "code",
      "source": [
        "# Altera uma informação solicitada\n",
        "\n",
        "# Pede a coluna e a linha\n",
        "# Pede a coluna e passar o nome\n",
        "alteracaocolumn = input('Coluna de alteração: ')\n",
        "\n",
        "# Pede a linha e passar o numero da linha\n",
        "alteracaorow = input('Linha de alteração: ')\n",
        "\n",
        "# Formata a linha\n",
        "alteracaorow = int(alteracaorow)\n",
        "\n",
        "# Pede a alteração \n",
        "newvalue = input('Alteração: ')\n",
        "tabela.loc[alteracaorow,alteracaocolumn] = newvalue\n",
        "\n",
        "# Salva a planilha\n",
        "tabela.to_excel(\"/content/drive/MyDrive/Curso analise de dados/Base de de dados.xlsx\", index=False)"
      ],
      "metadata": {
        "id": "hCPzradJwtmg"
      },
      "execution_count": null,
      "outputs": []
    },
    {
      "cell_type": "code",
      "source": [
        "# Escluir uma linha\n",
        "\n",
        "# Pede e formata a linha que deseja ser excluida\n",
        "excluir = input('Linha para excluir: ')\n",
        "excluir = int(excluir)\n",
        "\n",
        "# Mostra a linha excluida\n",
        "display(excluir)\n",
        "\n",
        "# Exclui a linha da tabela\n",
        "tabela = tabela.drop(excluir)\n",
        "\n",
        "# Salva a tabela\n",
        "tabela.to_excel(\"/content/drive/MyDrive/Curso analise de dados/Base de de dados.xlsx\", index=False)"
      ],
      "metadata": {
        "id": "kyq5bEfjxBe0"
      },
      "execution_count": null,
      "outputs": []
    },
    {
      "cell_type": "code",
      "source": [
        "# Cria as variaveis utilizadas para a busca e as \"seta\" como zero\n",
        "\n",
        "# As buscas são \n",
        "\n",
        "# Maior faturamento, maior despesa, maior lucro\n",
        "\n",
        "fatanterior = 0\n",
        "despanterior = 0\n",
        "lucroanterior = 0\n",
        "\n",
        "# Laços de repetição que procuram as informações\n",
        "# A cada linha ele verifica se o valor da nova linha é maior que a linha anterior\n",
        "# Caso seja, esse valor é armazenado\n",
        "# Fazendo assim no final mostrar o maior valor\n",
        "\n",
        "for faturamento in tabela.itertuples():\n",
        "  fat = faturamento.FATURAMENTO\n",
        "  if fat > fatanterior:\n",
        "    fatanterior = fat\n",
        "    namefat = faturamento.NOME\n",
        "\n",
        "for despesas in tabela.itertuples():\n",
        "  desp = despesas.DESPESAS\n",
        "  if desp > despanterior:\n",
        "    despanterior = desp \n",
        "    namedesp = despesas.NOME\n",
        "\n",
        "for lucro in tabela.itertuples():\n",
        "  luc = lucro.LUCRO\n",
        "  if luc  > lucroanterior:\n",
        "    lucroanterior = luc\n",
        "    namelucro = lucro.LUCRO\n",
        "\n",
        "# Mostar os resultados\n",
        "\n",
        "  # Setar os textos\n",
        "\n",
        "txtfaturamento = \"O maior faturamento foi do \"\n",
        "txtdespesas = \"A maior despesa foi do \"\n",
        "txtlucro = \"O maior lucro foi do \"\n",
        "com = \" com \"\n",
        "\n",
        "display(f'{txtfaturamento}{namefat}{com}{fatanterior}')\n",
        "display(f'{txtdespesas}{namedesp}{com}{despanterior}')\n",
        "display(f'{txtlucro}{namelucro}{com}{lucroanterior}')\n"
      ],
      "metadata": {
        "id": "sGm6g_tlxbZ3"
      },
      "execution_count": null,
      "outputs": []
    },
    {
      "cell_type": "code",
      "source": [
        "# Plotar os graficos\n",
        "\n",
        "  # Relação ESTADO x FATURAMENTO\n",
        "grafico = px.line(tabela,x =\"ESTADO\", y=\"FATURAMENTO\")\n",
        "grafico.show()\n",
        "\n",
        "  # Relação ESTADO X LUCRO\n",
        "grafico = px.bar(tabela,x =\"ESTADO\", y=\"LUCRO\")\n",
        "grafico.show()"
      ],
      "metadata": {
        "id": "cp1d3LIt0F-F"
      },
      "execution_count": null,
      "outputs": []
    }
  ]
}